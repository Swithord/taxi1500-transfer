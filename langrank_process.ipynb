{
 "cells": [
  {
   "metadata": {
    "ExecuteTime": {
     "end_time": "2025-07-11T18:13:54.888066Z",
     "start_time": "2025-07-11T18:13:50.542718Z"
    }
   },
   "cell_type": "code",
   "source": [
    "import pandas as pd\n",
    "from urielplus.urielplus import URIELPlus\n",
    "import logging\n",
    "logging.disable(logging.INFO)"
   ],
   "id": "bc26cbccdc22dc6a",
   "outputs": [],
   "execution_count": 1
  },
  {
   "metadata": {
    "ExecuteTime": {
     "end_time": "2025-07-11T18:13:56.080798Z",
     "start_time": "2025-07-11T18:13:56.045159Z"
    }
   },
   "cell_type": "code",
   "source": [
    "df = pd.read_csv('evaluation_results.csv')\n",
    "df = df[df['task_lang'] != df['transfer_lang']]"
   ],
   "id": "6bec507528d31d55",
   "outputs": [],
   "execution_count": 2
  },
  {
   "metadata": {
    "ExecuteTime": {
     "end_time": "2025-07-11T18:13:58.385306Z",
     "start_time": "2025-07-11T18:13:56.767751Z"
    }
   },
   "cell_type": "code",
   "source": [
    "glottocode_map = pd.read_csv('uriel_data/uriel_glottocode_map.csv', index_col=1)\n",
    "df = df[df['task_lang'].isin(glottocode_map.index) & df['transfer_lang'].isin(glottocode_map.index)]\n",
    "geography_df = pd.read_csv('uriel_data/URIEL_Geography.csv', index_col=0)\n",
    "phylogeny_df = pd.read_csv('uriel_data/URIEL_Phylogeny_Labels.csv', index_col=0)\n",
    "df['task_lang'] = df['task_lang'].map(lambda x: glottocode_map.loc[x]['glottocode'])\n",
    "df['transfer_lang'] = df['transfer_lang'].map(lambda x: glottocode_map.loc[x]['glottocode'])\n",
    "df = df[df['task_lang'].isin(geography_df.index) & df['task_lang'].isin(phylogeny_df.index)]"
   ],
   "id": "a589832d40a6202e",
   "outputs": [],
   "execution_count": 3
  },
  {
   "metadata": {
    "ExecuteTime": {
     "end_time": "2025-07-11T18:31:11.392186Z",
     "start_time": "2025-07-11T18:23:52.420090Z"
    }
   },
   "cell_type": "code",
   "source": [
    "u = URIELPlus()\n",
    "u.set_glottocodes()\n",
    "distance_types = ['genetic', 'geographic']\n",
    "for distance_type in distance_types:\n",
    "    df[distance_type] = df.apply(lambda row: u.new_distance(distance_type, row['task_lang'], row['transfer_lang']), axis=1)"
   ],
   "id": "16b8621712417bc7",
   "outputs": [],
   "execution_count": 7
  },
  {
   "metadata": {
    "ExecuteTime": {
     "end_time": "2025-07-11T19:02:56.541867Z",
     "start_time": "2025-07-11T19:02:56.414573Z"
    }
   },
   "cell_type": "code",
   "source": "df.to_csv('processed_results.csv', index=False)",
   "id": "3906faf10ab2eac7",
   "outputs": [],
   "execution_count": 8
  },
  {
   "metadata": {},
   "cell_type": "code",
   "outputs": [],
   "execution_count": null,
   "source": "",
   "id": "cd5407dfb3ea1e93"
  }
 ],
 "metadata": {
  "kernelspec": {
   "display_name": "Python 3",
   "language": "python",
   "name": "python3"
  },
  "language_info": {
   "codemirror_mode": {
    "name": "ipython",
    "version": 2
   },
   "file_extension": ".py",
   "mimetype": "text/x-python",
   "name": "python",
   "nbconvert_exporter": "python",
   "pygments_lexer": "ipython2",
   "version": "2.7.6"
  }
 },
 "nbformat": 4,
 "nbformat_minor": 5
}
